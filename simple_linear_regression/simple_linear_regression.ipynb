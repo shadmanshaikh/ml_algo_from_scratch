{
 "cells": [
  {
   "cell_type": "code",
   "execution_count": 1,
   "id": "d9ee6839",
   "metadata": {},
   "outputs": [
    {
     "data": {
      "text/plain": [
       "'\\nAuthors Name : shadman\\nDate : 5-5-23\\nDescription : Implementing simple linear regression from scratch\\n\\n'"
      ]
     },
     "execution_count": 1,
     "metadata": {},
     "output_type": "execute_result"
    }
   ],
   "source": [
    "'''\n",
    "Authors Name : shadman\n",
    "Date : 5-5-23\n",
    "Description : Implementing simple linear regression from scratch\n",
    "\n",
    "'''"
   ]
  },
  {
   "cell_type": "markdown",
   "id": "78faa032",
   "metadata": {},
   "source": [
    "Y = m * x + c\n",
    "where y is dependent variable and x is independent variable"
   ]
  },
  {
   "cell_type": "code",
   "execution_count": 2,
   "id": "8b23e8cb",
   "metadata": {},
   "outputs": [],
   "source": [
    "x = [1 , 2 , 3 , 4 , 5]\n",
    "y = [3 , 4 , 2 , 4 , 5]"
   ]
  },
  {
   "cell_type": "markdown",
   "id": "33153b5d",
   "metadata": {},
   "source": [
    "finding the values of m and c"
   ]
  },
  {
   "cell_type": "code",
   "execution_count": 3,
   "id": "01028e19",
   "metadata": {},
   "outputs": [],
   "source": [
    "# first find the mean of both y and x\n",
    "if len(x) ==  len(y):\n",
    "    n = len(x)"
   ]
  },
  {
   "cell_type": "code",
   "execution_count": 4,
   "id": "633e6a0e",
   "metadata": {},
   "outputs": [],
   "source": [
    "x_sum = 0\n",
    "y_sum = 0\n",
    "for i in range(0,n):\n",
    "    x_sum += x[i]\n",
    "    y_sum += y[i]\n",
    "    # print(\"value of X: \",x_sum)\n",
    "x_mean = x_sum/n \n",
    "y_mean = y_sum/n\n",
    "# y_sum = 0\n",
    "# for j in range(0,len(y)):\n",
    "#     y_sum += y[j]    \n",
    "    # print(\"value of Y: \",y_sum)\n",
    "numerator = 0\n",
    "denominator = 0\n",
    "n = len(x)\n",
    "for i in range(n):\n",
    "    # for j in range(0,len(y)):\n",
    "        xdiff = (x[i] - x_mean)\n",
    "        ydiff = (y[i] - y_mean)\n",
    "        numerator +=  xdiff * ydiff\n",
    "        denominator += (x[i] - x_mean)**2"
   ]
  },
  {
   "cell_type": "code",
   "execution_count": 5,
   "id": "f4cdcddd",
   "metadata": {},
   "outputs": [
    {
     "name": "stdout",
     "output_type": "stream",
     "text": [
      "the value of m is : 0.4\n"
     ]
    }
   ],
   "source": [
    "# therefore the m value is numerator by denominator\n",
    "m = numerator / denominator\n",
    "# print(f'numerator val : {numerator} , denominator val: {denominator}')\n",
    "print(f'the value of m is : {m}')"
   ]
  },
  {
   "cell_type": "markdown",
   "id": "ea2f92ad",
   "metadata": {},
   "source": [
    "find the value of c \n",
    "we know that y = m*x + c\n",
    "we can change it into c = (m * xmean) - ymean , to get c val"
   ]
  },
  {
   "cell_type": "code",
   "execution_count": 6,
   "id": "df316c16",
   "metadata": {},
   "outputs": [
    {
     "name": "stdout",
     "output_type": "stream",
     "text": [
      "the value of c is : 2.4\n"
     ]
    }
   ],
   "source": [
    "c =  y_mean - (m * x_mean) \n",
    "print(f'the value of c is : {c}')"
   ]
  },
  {
   "cell_type": "markdown",
   "id": "a2d07b4b",
   "metadata": {},
   "source": [
    "the predict the ypred val , as ypred = m*x + c"
   ]
  },
  {
   "cell_type": "markdown",
   "id": "088423aa",
   "metadata": {},
   "source": [
    "for i in range(0,n):\n",
    "    print(y_pred)"
   ]
  },
  {
   "cell_type": "markdown",
   "id": "e23d85c8",
   "metadata": {},
   "source": [
    "to find the how close the data are fitted in the regression line we use R2 value"
   ]
  },
  {
   "cell_type": "code",
   "execution_count": 7,
   "id": "c0b48a54",
   "metadata": {},
   "outputs": [],
   "source": [
    "r2_numerator = 0\n",
    "r2_denominator = 0\n",
    "# r2 =\n",
    "sample_y = []\n",
    "for i in range(0,n):\n",
    "    y_pred = m * x[i] + c\n",
    "    sample_y.append(y_pred)\n",
    "    r2_numerator += (y_pred - y_mean)**2\n",
    "    r2_denominator += (y[i] - y_mean)**2\n",
    "    # print(r2_numerator)\n",
    "r2 = r2_numerator / r2_denominator"
   ]
  },
  {
   "cell_type": "code",
   "execution_count": 8,
   "id": "de793583",
   "metadata": {
    "lines_to_next_cell": 2
   },
   "outputs": [
    {
     "name": "stdout",
     "output_type": "stream",
     "text": [
      "the r2 value is : 0.3076923076923078\n"
     ]
    }
   ],
   "source": [
    "print(f'the r2 value is : {r2}')"
   ]
  },
  {
   "cell_type": "code",
   "execution_count": 9,
   "id": "84273ab9",
   "metadata": {
    "lines_to_next_cell": 2
   },
   "outputs": [
    {
     "name": "stdout",
     "output_type": "stream",
     "text": [
      "-98 , 101\n"
     ]
    }
   ],
   "source": [
    "import numpy as np\n",
    "min_x = np.min(y) - 100\n",
    "max_x = np.min(x) + 100\n",
    "print(f'{min_x} , {max_x}')"
   ]
  },
  {
   "cell_type": "code",
   "execution_count": 10,
   "id": "ce458981",
   "metadata": {},
   "outputs": [],
   "source": [
    "import matplotlib.pyplot as plt"
   ]
  },
  {
   "cell_type": "code",
   "execution_count": 11,
   "id": "f6cba280",
   "metadata": {},
   "outputs": [
    {
     "data": {
      "image/png": "[encoded data removed]",
      "text/plain": [
       "<Figure size 432x288 with 1 Axes>"
      ]
     },
     "metadata": {
      "needs_background": "light"
     },
     "output_type": "display_data"
    }
   ],
   "source": [
    "# X = np.linspace(min_x , max_x , 100)\n",
    "plt.plot(x , sample_y , color = \"blue\" , label = \"regression line\")\n",
    "plt.scatter(x , y , color =\"red\" , label = \"data points\")\n",
    "plt.show()"
   ]
  }
 ],
 "metadata": {
  "jupytext": {
   "cell_metadata_filter": "-all",
   "main_language": "python",
   "notebook_metadata_filter": "-all"
  },
  "kernelspec": {
   "display_name": "Python 3",
   "language": "python",
   "name": "python3"
  },
  "language_info": {
   "codemirror_mode": {
    "name": "ipython",
    "version": 3
   },
   "file_extension": ".py",
   "mimetype": "text/x-python",
   "name": "python",
   "nbconvert_exporter": "python",
   "pygments_lexer": "ipython3",
   "version": "3.9.13"
  }
 },
 "nbformat": 4,
 "nbformat_minor": 5
}
